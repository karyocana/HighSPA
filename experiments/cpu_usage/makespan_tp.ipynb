{
 "cells": [
  {
   "cell_type": "code",
   "execution_count": 1,
   "id": "19b779d8",
   "metadata": {},
   "outputs": [],
   "source": [
    "mk_hyphy = [30.30, 23.43, 19.65]\n",
    "mk_codeml = [1661.55, 1860.50, 1445.92]\n",
    "mk_def_hyphy = 2148.18\n",
    "tp_def_hyphy = 0.17\n",
    "mk_def_codeml = 51523.30\n",
    "tp_def_codeml = 0.01\n",
    "tp_hyphy = [11.88, 15.36, 18.32]\n",
    "tp_codeml = [0.22, 0.19, 0.24]"
   ]
  },
  {
   "cell_type": "code",
   "execution_count": 5,
   "id": "2e39f95a",
   "metadata": {},
   "outputs": [
    {
     "data": {
      "text/plain": [
       "109.32213740458015"
      ]
     },
     "execution_count": 5,
     "metadata": {},
     "output_type": "execute_result"
    }
   ],
   "source": [
    "mk_def_hyphy/19.65"
   ]
  },
  {
   "cell_type": "code",
   "execution_count": null,
   "id": "8af15c3f",
   "metadata": {},
   "outputs": [
    {
     "name": "stdout",
     "output_type": "stream",
     "text": [
      "Average makespan HyPhy: 24.459999999999997\n",
      "Average Throughput HyPhy: 15.186666666666667\n",
      "Average makespan codeml: 1655.99\n",
      "Average Throughput codeml: 0.21666666666666667\n",
      "Hyphy makespan is 87.82420278004906 times faster than default\n",
      "Hyphy throughput is 89.33333333333333 times faster than default\n",
      "CodeML makespan is 31.11329174693084 times faster than default\n",
      "CodeML throughput is 21.666666666666668 times faster than default\n"
     ]
    }
   ],
   "source": [
    "avg_mk_hyphy = sum(mk_hyphy)/len(mk_hyphy)\n",
    "print(f\"Average makespan HyPhy: {avg_mk_hyphy}\")\n",
    "avg_tp_hyphy = sum(tp_hyphy)/len(tp_hyphy)\n",
    "print(f\"Average Throughput HyPhy: {avg_tp_hyphy}\")\n",
    "\n",
    "\n",
    "avg_mk_codeml = sum(mk_codeml)/len(mk_codeml)\n",
    "print(f\"Average makespan codeml: {avg_mk_codeml}\")\n",
    "avg_tp_codeml = sum(tp_codeml)/len(tp_codeml)\n",
    "print(f\"Average Throughput codeml: {avg_tp_codeml}\")\n",
    "\n",
    "\n",
    "\n",
    "print(f\"Hyphy makespan is {mk_def_hyphy/avg_mk_hyphy} times faster than default\")\n",
    "print(f\"Hyphy throughput is {avg_tp_hyphy/tp_def_hyphy} times faster than default\")\n",
    "print(f\"CodeML makespan is {mk_def_codeml/avg_mk_codeml} times faster than default\")\n",
    "print(f\"CodeML throughput is {avg_tp_codeml/tp_def_codeml} times faster than default\")"
   ]
  }
 ],
 "metadata": {
  "kernelspec": {
   "display_name": "Python 3",
   "language": "python",
   "name": "python3"
  },
  "language_info": {
   "codemirror_mode": {
    "name": "ipython",
    "version": 3
   },
   "file_extension": ".py",
   "mimetype": "text/x-python",
   "name": "python",
   "nbconvert_exporter": "python",
   "pygments_lexer": "ipython3",
   "version": "3.13.3"
  }
 },
 "nbformat": 4,
 "nbformat_minor": 5
}
